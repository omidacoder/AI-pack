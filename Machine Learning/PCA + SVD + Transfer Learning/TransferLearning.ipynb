{
  "nbformat": 4,
  "nbformat_minor": 0,
  "metadata": {
    "colab": {
      "name": "OmidDavarTransferlearning.ipynb",
      "provenance": [],
      "collapsed_sections": []
    },
    "kernelspec": {
      "name": "python3",
      "display_name": "Python 3"
    },
    "language_info": {
      "name": "python"
    }
  },
  "cells": [
    {
      "cell_type": "code",
      "source": [
        "!nvidia-smi"
      ],
      "metadata": {
        "id": "W8glrBE63uaO",
        "colab": {
          "base_uri": "https://localhost:8080/"
        },
        "outputId": "32b843ba-6510-4f05-cbb2-202d8ec7bade"
      },
      "execution_count": 1,
      "outputs": [
        {
          "output_type": "stream",
          "name": "stdout",
          "text": [
            "NVIDIA-SMI has failed because it couldn't communicate with the NVIDIA driver. Make sure that the latest NVIDIA driver is installed and running.\n",
            "\n"
          ]
        }
      ]
    },
    {
      "cell_type": "code",
      "execution_count": 2,
      "metadata": {
        "id": "7sxwtGz01vdj"
      },
      "outputs": [],
      "source": [
        "# import things\n",
        "import tensorflow as tf\n",
        "from google.colab import drive\n",
        "from sklearn.model_selection import train_test_split\n",
        "from sklearn.metrics import classification_report\n",
        "from sklearn.metrics import f1_score\n",
        "from sklearn.utils import shuffle\n",
        "from keras.applications.vgg16 import VGG16"
      ]
    },
    {
      "cell_type": "code",
      "source": [
        "# reading dataset files\n",
        "import time\n",
        "from tqdm import tqdm\n",
        "# unpacking data\n",
        "from zipfile import ZipFile\n",
        "with ZipFile(\"drive/My Drive/mnist/Medical MNIST.zip\",\"r\") as zip_ref:\n",
        "     for file in tqdm(iterable=zip_ref.namelist(), total=len(zip_ref.namelist())):\n",
        "          zip_ref.extract(member=file,path=\"mnist\")\n",
        "# put dataset path in below variable\n",
        "directory = \"./mnist\"\n",
        "# # Medical Mnist Image size is 64 * 64\n",
        "data = tf.keras.preprocessing.image_dataset_from_directory(\n",
        "    directory, color_mode='rgb', batch_size=32, image_size=(64, 64), shuffle=True\n",
        ")\n",
        "# # reading vgg16 model\n",
        "model = VGG16(weights='imagenet' , include_top=False , input_shape=(64,64,3))\n",
        "# # freezing layers to add new layers later\n",
        "for layer in model.layers:\n",
        "  layer.trainable = False"
      ],
      "metadata": {
        "colab": {
          "base_uri": "https://localhost:8080/"
        },
        "id": "a-w8bOTk3q0w",
        "outputId": "78a44842-e806-4f28-e211-fc348d9f91ce"
      },
      "execution_count": 3,
      "outputs": [
        {
          "output_type": "stream",
          "name": "stderr",
          "text": [
            "100%|██████████| 58954/58954 [00:13<00:00, 4358.89it/s]\n"
          ]
        },
        {
          "output_type": "stream",
          "name": "stdout",
          "text": [
            "Found 58954 files belonging to 6 classes.\n"
          ]
        }
      ]
    },
    {
      "cell_type": "code",
      "source": [
        "# changing model\n",
        "output = model.output\n",
        "layer = tf.keras.layers.Flatten()(output)\n",
        "layer = tf.keras.layers.Dense(units=2048)(layer)\n",
        "layer = tf.keras.layers.Dropout(0.05)(layer) # avoid overfitting\n",
        "layer = tf.keras.layers.Dense(units=2048)(layer)\n",
        "layer = tf.keras.layers.Dense(units=6 , activation='softmax')(layer)\n",
        "model = tf.keras.Model(\n",
        "        inputs=model.input,\n",
        "        outputs=layer,\n",
        "    )\n",
        "# compiling model\n",
        "# sparse categorical loss function means labels are integers but output is 6 length tensor\n",
        "model.compile(loss=tf.keras.losses.SparseCategoricalCrossentropy(from_logits=True) , optimizer=\"Adam\" , metrics = [\"accuracy\"])\n",
        "print(model.summary())"
      ],
      "metadata": {
        "id": "gJ8qPBWJ71Rv",
        "colab": {
          "base_uri": "https://localhost:8080/"
        },
        "outputId": "fc21b2f4-72cf-45e3-b116-607ec80b626b"
      },
      "execution_count": 5,
      "outputs": [
        {
          "output_type": "stream",
          "name": "stdout",
          "text": [
            "Model: \"model_1\"\n",
            "_________________________________________________________________\n",
            " Layer (type)                Output Shape              Param #   \n",
            "=================================================================\n",
            " input_1 (InputLayer)        [(None, 64, 64, 3)]       0         \n",
            "                                                                 \n",
            " block1_conv1 (Conv2D)       (None, 64, 64, 64)        1792      \n",
            "                                                                 \n",
            " block1_conv2 (Conv2D)       (None, 64, 64, 64)        36928     \n",
            "                                                                 \n",
            " block1_pool (MaxPooling2D)  (None, 32, 32, 64)        0         \n",
            "                                                                 \n",
            " block2_conv1 (Conv2D)       (None, 32, 32, 128)       73856     \n",
            "                                                                 \n",
            " block2_conv2 (Conv2D)       (None, 32, 32, 128)       147584    \n",
            "                                                                 \n",
            " block2_pool (MaxPooling2D)  (None, 16, 16, 128)       0         \n",
            "                                                                 \n",
            " block3_conv1 (Conv2D)       (None, 16, 16, 256)       295168    \n",
            "                                                                 \n",
            " block3_conv2 (Conv2D)       (None, 16, 16, 256)       590080    \n",
            "                                                                 \n",
            " block3_conv3 (Conv2D)       (None, 16, 16, 256)       590080    \n",
            "                                                                 \n",
            " block3_pool (MaxPooling2D)  (None, 8, 8, 256)         0         \n",
            "                                                                 \n",
            " block4_conv1 (Conv2D)       (None, 8, 8, 512)         1180160   \n",
            "                                                                 \n",
            " block4_conv2 (Conv2D)       (None, 8, 8, 512)         2359808   \n",
            "                                                                 \n",
            " block4_conv3 (Conv2D)       (None, 8, 8, 512)         2359808   \n",
            "                                                                 \n",
            " block4_pool (MaxPooling2D)  (None, 4, 4, 512)         0         \n",
            "                                                                 \n",
            " block5_conv1 (Conv2D)       (None, 4, 4, 512)         2359808   \n",
            "                                                                 \n",
            " block5_conv2 (Conv2D)       (None, 4, 4, 512)         2359808   \n",
            "                                                                 \n",
            " block5_conv3 (Conv2D)       (None, 4, 4, 512)         2359808   \n",
            "                                                                 \n",
            " block5_pool (MaxPooling2D)  (None, 2, 2, 512)         0         \n",
            "                                                                 \n",
            " flatten (Flatten)           (None, 2048)              0         \n",
            "                                                                 \n",
            " dense (Dense)               (None, 2048)              4196352   \n",
            "                                                                 \n",
            " dropout (Dropout)           (None, 2048)              0         \n",
            "                                                                 \n",
            " dense_1 (Dense)             (None, 2048)              4196352   \n",
            "                                                                 \n",
            " dense_2 (Dense)             (None, 6)                 12294     \n",
            "                                                                 \n",
            " flatten_1 (Flatten)         (None, 6)                 0         \n",
            "                                                                 \n",
            " dense_3 (Dense)             (None, 2048)              14336     \n",
            "                                                                 \n",
            " dropout_1 (Dropout)         (None, 2048)              0         \n",
            "                                                                 \n",
            " dense_4 (Dense)             (None, 2048)              4196352   \n",
            "                                                                 \n",
            " dense_5 (Dense)             (None, 6)                 12294     \n",
            "                                                                 \n",
            "=================================================================\n",
            "Total params: 27,342,668\n",
            "Trainable params: 12,627,980\n",
            "Non-trainable params: 14,714,688\n",
            "_________________________________________________________________\n",
            "None\n"
          ]
        }
      ]
    },
    {
      "cell_type": "code",
      "source": [
        "# train model using new data\n",
        "train = data.take(int(len(data)*70/100))\n",
        "test = data.skip(int(len(data)*70/100)).take(int(len(data)*30/100))\n",
        "model.fit(train , epochs=1 ,batch_size=32)"
      ],
      "metadata": {
        "id": "cNQXGLFVEpIh",
        "colab": {
          "base_uri": "https://localhost:8080/"
        },
        "outputId": "f5663d66-6552-4bb3-e9b1-ba6d9eb6ab05"
      },
      "execution_count": 7,
      "outputs": [
        {
          "output_type": "stream",
          "name": "stdout",
          "text": [
            "1843/1843 [==============================] - 2382s 1s/step - loss: 1.7930 - accuracy: 0.1714\n"
          ]
        },
        {
          "output_type": "execute_result",
          "data": {
            "text/plain": [
              "<keras.callbacks.History at 0x7f12799d08d0>"
            ]
          },
          "metadata": {},
          "execution_count": 7
        }
      ]
    },
    {
      "cell_type": "code",
      "source": [
        "model.evaluate(test)"
      ],
      "metadata": {
        "id": "kUIhLcsxGMJG",
        "colab": {
          "base_uri": "https://localhost:8080/"
        },
        "outputId": "5f57b244-05b0-4b05-d697-944cef4ff647"
      },
      "execution_count": 26,
      "outputs": [
        {
          "output_type": "stream",
          "name": "stdout",
          "text": [
            "552/552 [==============================] - 697s 1s/step - loss: 1.7936 - accuracy: 0.1680\n"
          ]
        },
        {
          "output_type": "execute_result",
          "data": {
            "text/plain": [
              "[1.7936094999313354, 0.16796875]"
            ]
          },
          "metadata": {},
          "execution_count": 26
        }
      ]
    }
  ]
}